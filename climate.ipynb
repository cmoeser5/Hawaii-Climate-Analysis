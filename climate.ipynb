{
 "cells": [
  {
   "cell_type": "code",
   "execution_count": 1,
   "metadata": {},
   "outputs": [],
   "source": [
    "# Import dependencies\n",
    "\n",
    "# Python SQL toolkit and Object Relational Mapper\n",
    "# engine, inspect, and functions\n",
    "from sqlalchemy import create_engine, inspect, func\n",
    "\n",
    "# Declarative base because when you want something done right... you don't use automap...\n",
    "from sqlalchemy.ext.declarative import declarative_base\n",
    "\n",
    "# Columns and data types\n",
    "from sqlalchemy import Column, Integer, String, Float\n",
    "from sqlalchemy.types import Date, Time\n",
    "\n",
    "# Session for queries\n",
    "from sqlalchemy.orm import Session\n",
    "\n",
    "# Operations for queries\n",
    "from sqlalchemy.sql.expression import and_, or_, extract\n",
    "\n",
    "%matplotlib inline\n",
    "from matplotlib import style\n",
    "\n",
    "style.use(\"fivethirtyeight\")\n",
    "import matplotlib.pyplot as plt\n",
    "\n",
    "import numpy as np\n",
    "import pandas as pd\n",
    "import datetime as dt\n",
    "from dateutil.relativedelta import relativedelta\n",
    "\n",
    "# Formatting tool for notebook\n",
    "%reload_ext lab_black\n",
    "from pprint import pprint"
   ]
  },
  {
   "cell_type": "markdown",
   "metadata": {},
   "source": [
    "# Reflect Tables into SQLAlchemy ORM"
   ]
  },
  {
   "cell_type": "code",
   "execution_count": 2,
   "metadata": {},
   "outputs": [],
   "source": [
    "# Python SQL toolkit and Object Relational Mapper\n",
    "import sqlalchemy\n",
    "from sqlalchemy.orm import Session\n",
    "from sqlalchemy.ext.declarative import declarative_base\n",
    "from sqlalchemy import create_engine, func"
   ]
  },
  {
   "cell_type": "code",
   "execution_count": 3,
   "metadata": {},
   "outputs": [],
   "source": [
    "engine = create_engine(\"sqlite:///Resources/hawaii.sqlite\")\n",
    "conn = engine.connect()\n",
    "session = Session(bind=engine)\n",
    "inspector = inspect(engine)"
   ]
  },
  {
   "cell_type": "code",
   "execution_count": 4,
   "metadata": {},
   "outputs": [
    {
     "data": {
      "text/plain": [
       "['measurement', 'station']"
      ]
     },
     "execution_count": 4,
     "metadata": {},
     "output_type": "execute_result"
    }
   ],
   "source": [
    "# Read table names\n",
    "table_names = inspector.get_table_names()\n",
    "table_names"
   ]
  },
  {
   "cell_type": "code",
   "execution_count": 5,
   "metadata": {},
   "outputs": [
    {
     "name": "stdout",
     "output_type": "stream",
     "text": [
      "TABLE: measurement\n",
      "[{'autoincrement': 'auto',\n",
      "  'default': None,\n",
      "  'name': 'id',\n",
      "  'nullable': False,\n",
      "  'primary_key': 1,\n",
      "  'type': INTEGER()},\n",
      " {'autoincrement': 'auto',\n",
      "  'default': None,\n",
      "  'name': 'station',\n",
      "  'nullable': True,\n",
      "  'primary_key': 0,\n",
      "  'type': TEXT()},\n",
      " {'autoincrement': 'auto',\n",
      "  'default': None,\n",
      "  'name': 'date',\n",
      "  'nullable': True,\n",
      "  'primary_key': 0,\n",
      "  'type': TEXT()},\n",
      " {'autoincrement': 'auto',\n",
      "  'default': None,\n",
      "  'name': 'prcp',\n",
      "  'nullable': True,\n",
      "  'primary_key': 0,\n",
      "  'type': FLOAT()},\n",
      " {'autoincrement': 'auto',\n",
      "  'default': None,\n",
      "  'name': 'tobs',\n",
      "  'nullable': True,\n",
      "  'primary_key': 0,\n",
      "  'type': FLOAT()}]\n",
      "DATA FROM TABLE measurement: \n",
      "(1, 'USC00519397', '2010-01-01', 0.08, 65.0)\n",
      "(2, 'USC00519397', '2010-01-02', 0.0, 63.0)\n",
      "(3, 'USC00519397', '2010-01-03', 0.0, 74.0)\n",
      "(4, 'USC00519397', '2010-01-04', 0.0, 76.0)\n",
      "(5, 'USC00519397', '2010-01-06', None, 73.0)\n",
      "TABLE: station\n",
      "[{'autoincrement': 'auto',\n",
      "  'default': None,\n",
      "  'name': 'id',\n",
      "  'nullable': False,\n",
      "  'primary_key': 1,\n",
      "  'type': INTEGER()},\n",
      " {'autoincrement': 'auto',\n",
      "  'default': None,\n",
      "  'name': 'station',\n",
      "  'nullable': True,\n",
      "  'primary_key': 0,\n",
      "  'type': TEXT()},\n",
      " {'autoincrement': 'auto',\n",
      "  'default': None,\n",
      "  'name': 'name',\n",
      "  'nullable': True,\n",
      "  'primary_key': 0,\n",
      "  'type': TEXT()},\n",
      " {'autoincrement': 'auto',\n",
      "  'default': None,\n",
      "  'name': 'latitude',\n",
      "  'nullable': True,\n",
      "  'primary_key': 0,\n",
      "  'type': FLOAT()},\n",
      " {'autoincrement': 'auto',\n",
      "  'default': None,\n",
      "  'name': 'longitude',\n",
      "  'nullable': True,\n",
      "  'primary_key': 0,\n",
      "  'type': FLOAT()},\n",
      " {'autoincrement': 'auto',\n",
      "  'default': None,\n",
      "  'name': 'elevation',\n",
      "  'nullable': True,\n",
      "  'primary_key': 0,\n",
      "  'type': FLOAT()}]\n",
      "DATA FROM TABLE station: \n",
      "(1, 'USC00519397', 'WAIKIKI 717.2, HI US', 21.2716, -157.8168, 3.0)\n",
      "(2, 'USC00513117', 'KANEOHE 838.1, HI US', 21.4234, -157.8015, 14.6)\n",
      "(3, 'USC00514830', 'KUALOA RANCH HEADQUARTERS 886.9, HI US', 21.5213, -157.8374, 7.0)\n",
      "(4, 'USC00517948', 'PEARL CITY, HI US', 21.3934, -157.9751, 11.9)\n",
      "(5, 'USC00518838', 'UPPER WAHIAWA 874.3, HI US', 21.4992, -158.0111, 306.6)\n"
     ]
    }
   ],
   "source": [
    "# Show data in tables\n",
    "for table_name in table_names:\n",
    "    print(f\"TABLE: {table_name}\")\n",
    "    columns = inspector.get_columns(table_name)\n",
    "    pprint(columns)\n",
    "    sample = engine.execute(f\"SELECT * FROM {table_name} LIMIT 5\")\n",
    "    print(f\"DATA FROM TABLE {table_name}: \")\n",
    "    for row in sample:\n",
    "        print(row)"
   ]
  },
  {
   "cell_type": "code",
   "execution_count": 6,
   "metadata": {},
   "outputs": [],
   "source": [
    "# Create classes for measurement and station table\n",
    "Base = declarative_base()\n",
    "\n",
    "\n",
    "class Measurement(Base):\n",
    "    __tablename__ = \"measurement\"\n",
    "    id = Column(Integer, primary_key=True)\n",
    "    station = Column(String(30))\n",
    "    date = Column(Date)\n",
    "    prcp = Column(Float)\n",
    "    tobs = Column(Float)\n",
    "\n",
    "\n",
    "class Station(Base):\n",
    "    __tablename__ = \"station\"\n",
    "    id = Column(Integer, primary_key=True)\n",
    "    station = Column(String(30))\n",
    "    name = Column(String(120))\n",
    "    latitude = Column(Float)\n",
    "    longitude = Column(Float)\n",
    "    elevation = Column(Float)"
   ]
  },
  {
   "cell_type": "markdown",
   "metadata": {},
   "source": [
    "# Exploratory Climate Analysis"
   ]
  },
  {
   "cell_type": "code",
   "execution_count": 7,
   "metadata": {},
   "outputs": [
    {
     "name": "stdout",
     "output_type": "stream",
     "text": [
      "Measurement table time range - start date: 2010-01-01 and end date: 2017-08-23\n"
     ]
    }
   ],
   "source": [
    "# Find min and max dates in data\n",
    "min_date, max_date = session.query(\n",
    "    func.min(Measurement.date), func.max(Measurement.date)\n",
    ").first()\n",
    "print(f\"Measurement table time range - start date: {min_date} and end date: {max_date}\")"
   ]
  },
  {
   "cell_type": "code",
   "execution_count": 8,
   "metadata": {},
   "outputs": [
    {
     "name": "stdout",
     "output_type": "stream",
     "text": [
      "Dates from the last year - start date: 2016-08-23 and end date 2017-08-23\n"
     ]
    }
   ],
   "source": [
    "# Calculate the date 1 year ago from the last data point in the database\n",
    "start_date = max_date - relativedelta(years=1)\n",
    "end_date = max_date\n",
    "print(f\"Dates from the last year - start date: {start_date} and end date {end_date}\")"
   ]
  },
  {
   "cell_type": "code",
   "execution_count": 9,
   "metadata": {},
   "outputs": [
    {
     "data": {
      "text/html": [
       "<div>\n",
       "<style scoped>\n",
       "    .dataframe tbody tr th:only-of-type {\n",
       "        vertical-align: middle;\n",
       "    }\n",
       "\n",
       "    .dataframe tbody tr th {\n",
       "        vertical-align: top;\n",
       "    }\n",
       "\n",
       "    .dataframe thead th {\n",
       "        text-align: right;\n",
       "    }\n",
       "</style>\n",
       "<table border=\"1\" class=\"dataframe\">\n",
       "  <thead>\n",
       "    <tr style=\"text-align: right;\">\n",
       "      <th></th>\n",
       "      <th>precipitation</th>\n",
       "    </tr>\n",
       "    <tr>\n",
       "      <th>date</th>\n",
       "      <th></th>\n",
       "    </tr>\n",
       "  </thead>\n",
       "  <tbody>\n",
       "    <tr>\n",
       "      <th>2016-08-23</th>\n",
       "      <td>0.451667</td>\n",
       "    </tr>\n",
       "    <tr>\n",
       "      <th>2016-08-24</th>\n",
       "      <td>1.555000</td>\n",
       "    </tr>\n",
       "    <tr>\n",
       "      <th>2016-08-25</th>\n",
       "      <td>0.077143</td>\n",
       "    </tr>\n",
       "    <tr>\n",
       "      <th>2016-08-26</th>\n",
       "      <td>0.016667</td>\n",
       "    </tr>\n",
       "    <tr>\n",
       "      <th>2016-08-27</th>\n",
       "      <td>0.064000</td>\n",
       "    </tr>\n",
       "  </tbody>\n",
       "</table>\n",
       "</div>"
      ],
      "text/plain": [
       "            precipitation\n",
       "date                     \n",
       "2016-08-23       0.451667\n",
       "2016-08-24       1.555000\n",
       "2016-08-25       0.077143\n",
       "2016-08-26       0.016667\n",
       "2016-08-27       0.064000"
      ]
     },
     "execution_count": 9,
     "metadata": {},
     "output_type": "execute_result"
    }
   ],
   "source": [
    "# Design a query to retrieve the last 12 months of precipitation data and plot the results\n",
    "query = (\n",
    "    session.query(Measurement.date, func.avg(Measurement.prcp))\n",
    "    .filter(Measurement.date >= start_date)\n",
    "    .filter(Measurement.date <= end_date)\n",
    "    .group_by(Measurement.date)\n",
    ")\n",
    "\n",
    "# Save the query results as a Pandas DataFrame and set the index to the date column\n",
    "prcp_df = (\n",
    "    pd.read_sql(query.statement, query.session.bind, index_col=\"date\")\n",
    "    .rename(columns={\"avg_1\": \"precipitation\"})\n",
    "    .sort_index()\n",
    ")\n",
    "prcp_df.head()"
   ]
  },
  {
   "cell_type": "code",
   "execution_count": 10,
   "metadata": {},
   "outputs": [
    {
     "data": {
      "image/png": "[encoded data removed]",
      "text/plain": [
       "<Figure size 720x720 with 1 Axes>"
      ]
     },
     "metadata": {},
     "output_type": "display_data"
    }
   ],
   "source": [
    "# Use Pandas Plotting with Matplotlib to plot the data\n",
    "prcp_df.plot(\n",
    "    kind=\"bar\",\n",
    "    title=\"Average Daily Precipitation at Hawaii Weather Stations\",\n",
    "    figsize=(10, 10),\n",
    "    width=3,\n",
    "    legend=False,\n",
    ")\n",
    "plt.locator_params(axis=\"x\", nbins=9.5)\n",
    "plt.xlabel(\"Date\")\n",
    "plt.ylabel(\"Inches\")\n",
    "plt.savefig(\"Images/precipitation_bar.png\")\n",
    "plt.show()"
   ]
  },
  {
   "cell_type": "code",
   "execution_count": 11,
   "metadata": {},
   "outputs": [
    {
     "data": {
      "text/html": [
       "<div>\n",
       "<style scoped>\n",
       "    .dataframe tbody tr th:only-of-type {\n",
       "        vertical-align: middle;\n",
       "    }\n",
       "\n",
       "    .dataframe tbody tr th {\n",
       "        vertical-align: top;\n",
       "    }\n",
       "\n",
       "    .dataframe thead th {\n",
       "        text-align: right;\n",
       "    }\n",
       "</style>\n",
       "<table border=\"1\" class=\"dataframe\">\n",
       "  <thead>\n",
       "    <tr style=\"text-align: right;\">\n",
       "      <th></th>\n",
       "      <th>precipitation</th>\n",
       "    </tr>\n",
       "  </thead>\n",
       "  <tbody>\n",
       "    <tr>\n",
       "      <th>count</th>\n",
       "      <td>366.000000</td>\n",
       "    </tr>\n",
       "    <tr>\n",
       "      <th>mean</th>\n",
       "      <td>0.170757</td>\n",
       "    </tr>\n",
       "    <tr>\n",
       "      <th>std</th>\n",
       "      <td>0.295683</td>\n",
       "    </tr>\n",
       "    <tr>\n",
       "      <th>min</th>\n",
       "      <td>0.000000</td>\n",
       "    </tr>\n",
       "    <tr>\n",
       "      <th>25%</th>\n",
       "      <td>0.008571</td>\n",
       "    </tr>\n",
       "    <tr>\n",
       "      <th>50%</th>\n",
       "      <td>0.070000</td>\n",
       "    </tr>\n",
       "    <tr>\n",
       "      <th>75%</th>\n",
       "      <td>0.191667</td>\n",
       "    </tr>\n",
       "    <tr>\n",
       "      <th>max</th>\n",
       "      <td>2.380000</td>\n",
       "    </tr>\n",
       "  </tbody>\n",
       "</table>\n",
       "</div>"
      ],
      "text/plain": [
       "       precipitation\n",
       "count     366.000000\n",
       "mean        0.170757\n",
       "std         0.295683\n",
       "min         0.000000\n",
       "25%         0.008571\n",
       "50%         0.070000\n",
       "75%         0.191667\n",
       "max         2.380000"
      ]
     },
     "execution_count": 11,
     "metadata": {},
     "output_type": "execute_result"
    }
   ],
   "source": [
    "# Use Pandas to calcualte the summary statistics for the precipitation data\n",
    "prcp_df.describe()"
   ]
  },
  {
   "cell_type": "code",
   "execution_count": 12,
   "metadata": {},
   "outputs": [
    {
     "name": "stdout",
     "output_type": "stream",
     "text": [
      "Number of stations in Measurement table: 9\n",
      "Number of stations in Station table: 9\n"
     ]
    }
   ],
   "source": [
    "# Design a query to show how many stations are available in this dataset\n",
    "num_station_measurement = len(session.query(Measurement.station).distinct().all())\n",
    "print(f\"Number of stations in Measurement table: {num_station_measurement}\")\n",
    "\n",
    "num_station = len(session.query(Station.station).distinct().all())\n",
    "print(f\"Number of stations in Station table: {num_station}\")"
   ]
  },
  {
   "cell_type": "code",
   "execution_count": 13,
   "metadata": {},
   "outputs": [
    {
     "name": "stdout",
     "output_type": "stream",
     "text": [
      "Station USC00519281 has the most temp and precipitation reports: 2772\n"
     ]
    }
   ],
   "source": [
    "# What are the most active stations? (i.e. what stations have the most rows)?\n",
    "# List the stations and the counts in descending order.\n",
    "\n",
    "active_station = (\n",
    "    session.query(Measurement.station, func.count(Measurement.station))\n",
    "    .group_by(Measurement.station)\n",
    "    .order_by(func.count(Measurement.station).desc())\n",
    ")\n",
    "print(\n",
    "    f\"Station {active_station.first()[0]} has the most temp and precipitation reports: {active_station.first()[1]}\"\n",
    ")"
   ]
  },
  {
   "cell_type": "code",
   "execution_count": 14,
   "metadata": {},
   "outputs": [
    {
     "name": "stdout",
     "output_type": "stream",
     "text": [
      "Temperature range for station USC00519281\n",
      "Lowest Temp: 54.00, Highest Temp: 85.00, Avg Temp: 71.66\n"
     ]
    }
   ],
   "source": [
    "# Using the station id from the previous query, calculate the lowest temperature recorded,\n",
    "# highest temperature recorded, and average temperature of the most active station?\n",
    "\n",
    "temp_range = (\n",
    "    session.query(\n",
    "        func.min(Measurement.tobs),\n",
    "        func.max(Measurement.tobs),\n",
    "        func.avg(Measurement.tobs),\n",
    "    )\n",
    "    .filter(Measurement.station == \"USC00519281\")\n",
    "    .first()\n",
    ")\n",
    "print(f\"Temperature range for station USC00519281\")\n",
    "print(\n",
    "    f\"Lowest Temp: {temp_range[0]:.2f}, Highest Temp: {temp_range[1]:.2f}, Avg Temp: {temp_range[2]:.2f}\"\n",
    ")"
   ]
  },
  {
   "cell_type": "code",
   "execution_count": 15,
   "metadata": {},
   "outputs": [
    {
     "name": "stdout",
     "output_type": "stream",
     "text": [
      "Start date 2010-01-01 and end date 2017-08-18 for station USC00519281\n",
      "Dates to use in the past year of station USC00519281 - start date 2016-08-18 and end date 2017-08-18\n"
     ]
    },
    {
     "data": {
      "text/html": [
       "<div>\n",
       "<style scoped>\n",
       "    .dataframe tbody tr th:only-of-type {\n",
       "        vertical-align: middle;\n",
       "    }\n",
       "\n",
       "    .dataframe tbody tr th {\n",
       "        vertical-align: top;\n",
       "    }\n",
       "\n",
       "    .dataframe thead th {\n",
       "        text-align: right;\n",
       "    }\n",
       "</style>\n",
       "<table border=\"1\" class=\"dataframe\">\n",
       "  <thead>\n",
       "    <tr style=\"text-align: right;\">\n",
       "      <th></th>\n",
       "      <th>temperature</th>\n",
       "    </tr>\n",
       "    <tr>\n",
       "      <th>date</th>\n",
       "      <th></th>\n",
       "    </tr>\n",
       "  </thead>\n",
       "  <tbody>\n",
       "    <tr>\n",
       "      <th>2016-08-18</th>\n",
       "      <td>80.0</td>\n",
       "    </tr>\n",
       "    <tr>\n",
       "      <th>2016-08-19</th>\n",
       "      <td>79.0</td>\n",
       "    </tr>\n",
       "    <tr>\n",
       "      <th>2016-08-20</th>\n",
       "      <td>81.0</td>\n",
       "    </tr>\n",
       "    <tr>\n",
       "      <th>2016-08-21</th>\n",
       "      <td>79.0</td>\n",
       "    </tr>\n",
       "    <tr>\n",
       "      <th>2016-08-22</th>\n",
       "      <td>78.0</td>\n",
       "    </tr>\n",
       "  </tbody>\n",
       "</table>\n",
       "</div>"
      ],
      "text/plain": [
       "            temperature\n",
       "date                   \n",
       "2016-08-18         80.0\n",
       "2016-08-19         79.0\n",
       "2016-08-20         81.0\n",
       "2016-08-21         79.0\n",
       "2016-08-22         78.0"
      ]
     },
     "execution_count": 15,
     "metadata": {},
     "output_type": "execute_result"
    }
   ],
   "source": [
    "# Choose the station with the highest number of temperature observations.\n",
    "# Query the last 12 months of temperature observation data for this station and plot the results as a histogram\n",
    "\n",
    "min_date, max_date = (\n",
    "    session.query(func.min(Measurement.date), func.max(Measurement.date))\n",
    "    .filter(Measurement.station == \"USC00519281\")\n",
    "    .first()\n",
    ")\n",
    "print(f\"Start date {min_date} and end date {max_date} for station USC00519281\")\n",
    "\n",
    "start_date = max_date - relativedelta(years=1)\n",
    "end_date = max_date\n",
    "print(\n",
    "    f\"Dates to use in the past year of station USC00519281 - start date {start_date} and end date {end_date}\"\n",
    ")\n",
    "\n",
    "query = (\n",
    "    session.query(Measurement.date, Measurement.tobs)\n",
    "    .filter(Measurement.station == \"USC00519281\")\n",
    "    .filter(Measurement.date >= start_date)\n",
    "    .filter(Measurement.date <= end_date)\n",
    ")\n",
    "\n",
    "temp_df = (\n",
    "    pd.read_sql(query.statement, query.session.bind, index_col=\"date\")\n",
    "    .rename(columns={\"tobs\": \"temperature\"})\n",
    "    .sort_index()\n",
    ")\n",
    "temp_df.head()"
   ]
  },
  {
   "cell_type": "code",
   "execution_count": 16,
   "metadata": {},
   "outputs": [
    {
     "data": {
      "image/png": "[encoded data removed]",
      "text/plain": [
       "<Figure size 576x576 with 1 Axes>"
      ]
     },
     "metadata": {},
     "output_type": "display_data"
    }
   ],
   "source": [
    "# plot a histogram of the results \n",
    "temp_df.plot(\n",
    "    kind=\"hist\", title=\"Temperature Reportings\", bins=12, legend=False, figsize=(8, 8)\n",
    ")\n",
    "plt.xlabel(\"Temp(F)\")\n",
    "plt.ylabel(\"Frequency\")\n",
    "plt.savefig(\"Images/histogram.png\")\n",
    "plt.show()"
   ]
  },
  {
   "cell_type": "markdown",
   "metadata": {},
   "source": [
    "## Average Temperature Analysis"
   ]
  },
  {
   "cell_type": "code",
   "execution_count": 17,
   "metadata": {},
   "outputs": [
    {
     "name": "stdout",
     "output_type": "stream",
     "text": [
      "[(62.0, 69.57142857142857, 74.0)]\n"
     ]
    }
   ],
   "source": [
    "# This function called `calc_temps` will accept start date and end date in the format '%Y-%m-%d'\n",
    "# and return the minimum, average, and maximum temperatures for that range of dates\n",
    "def calc_temps(start_date, end_date):\n",
    "    \"\"\"TMIN, TAVG, and TMAX for a list of dates.\n",
    "    \n",
    "    Args:\n",
    "        start_date (string): A date string in the format %Y-%m-%d\n",
    "        end_date (string): A date string in the format %Y-%m-%d\n",
    "        \n",
    "    Returns:\n",
    "        TMIN, TAVE, and TMAX\n",
    "    \"\"\"\n",
    "\n",
    "    return (\n",
    "        session.query(\n",
    "            func.min(Measurement.tobs),\n",
    "            func.avg(Measurement.tobs),\n",
    "            func.max(Measurement.tobs),\n",
    "        )\n",
    "        .filter(Measurement.date >= start_date)\n",
    "        .filter(Measurement.date <= end_date)\n",
    "        .all()\n",
    "    )\n",
    "\n",
    "\n",
    "# function usage example\n",
    "print(calc_temps(\"2012-02-28\", \"2012-03-05\"))"
   ]
  },
  {
   "cell_type": "code",
   "execution_count": 18,
   "metadata": {},
   "outputs": [
    {
     "name": "stdout",
     "output_type": "stream",
     "text": [
      "65.0, 75.67, 80.0\n"
     ]
    }
   ],
   "source": [
    "# Use your previous function `calc_temps` to calculate the tmin, tavg, and tmax\n",
    "# for your trip using the previous year's data for those same dates.\n",
    "\n",
    "prev_year_start = dt.date(2018, 5, 1) - dt.timedelta(days=365)\n",
    "prev_year_end = dt.date(2018, 5, 7) - dt.timedelta(days=365)\n",
    "\n",
    "tmin, tavg, tmax = calc_temps(\n",
    "    prev_year_start.strftime(\"%Y-%m-%d\"), prev_year_end.strftime(\"%Y-%m-%d\")\n",
    ")[0]\n",
    "\n",
    "print(f\"{tmin}, {tavg:.2f}, {tmax}\")\n",
    "t = calc_temps(prev_year_start.strftime(\"%Y-%m-%d\"), prev_year_end.strftime(\"%Y-%m-%d\"))"
   ]
  },
  {
   "cell_type": "code",
   "execution_count": 19,
   "metadata": {},
   "outputs": [
    {
     "data": {
      "image/png": "[encoded data removed]",
      "text/plain": [
       "<Figure size 144x720 with 1 Axes>"
      ]
     },
     "metadata": {},
     "output_type": "display_data"
    }
   ],
   "source": [
    "# Plot the results from your previous query as a bar chart.\n",
    "# Use \"Trip Avg Temp\" as your Title\n",
    "# Use the average temperature for the y value\n",
    "# Use the peak-to-peak (tmax-tmin) value as the y error bar (yerr)\n",
    "\n",
    "tmin = t[0][0]\n",
    "tavg = t[0][1]\n",
    "tmax = t[0][2]\n",
    "yerr = tmax - tmin\n",
    "\n",
    "plt.figure(figsize=(2, 10))\n",
    "plt.bar(0, tavg, yerr=yerr, align=\"center\", width=1, color=\"blue\", alpha=0.5)\n",
    "plt.ylim = (0, 100)\n",
    "plt.ylabel(\"average temperature(F)\")\n",
    "plt.title(\"Trip Avg Temp\")\n",
    "plt.savefig(\"Images/avg_temp.png\")\n",
    "plt.show()"
   ]
  },
  {
   "cell_type": "code",
   "execution_count": 20,
   "metadata": {},
   "outputs": [
    {
     "name": "stdout",
     "output_type": "stream",
     "text": [
      "Station \t Name \t\t\t\t\t  Latitude \t Longitude \t Elevation \t Rainfall\n",
      "------------------------------------------------------------------------------------------------------------------\n",
      "USC00514830 \t KUALOA RANCH HEADQUARTERS 886.9, HI US   21.5213 \t -157.84 \t 7.0 \t\t 0.47000000000000003\n",
      "USC00516128 \t MANOA LYON ARBO 785.2, HI US             21.3331 \t -157.8 \t 152.4 \t\t 0.38\n",
      "USC00519397 \t WAIKIKI 717.2, HI US                     21.2716 \t -157.82 \t 3.0 \t\t 0.26\n",
      "USC00513117 \t KANEOHE 838.1, HI US                     21.4234 \t -157.8 \t 14.6 \t\t 0.18\n",
      "USC00519281 \t WAIHEE 837.5, HI US                      21.45167 \t -157.85 \t 32.9 \t\t 0.17\n",
      "USC00519523 \t WAIMANALO EXPERIMENTAL FARM, HI US       21.33556 \t -157.71 \t 19.5 \t\t 0.07\n"
     ]
    }
   ],
   "source": [
    "# Calculate the total amount of rainfall per weather station for your trip dates using the previous year's matching dates.\n",
    "# Sort this in descending order by precipitation amount and list the station, name, latitude, longitude, and elevation\n",
    "\n",
    "start_date = \"2017-05-01\"\n",
    "end_date = \"2017-05-07\"\n",
    "\n",
    "sel = [\n",
    "    Station.station,\n",
    "    Station.name,\n",
    "    Station.latitude,\n",
    "    Station.longitude,\n",
    "    Station.elevation,\n",
    "    func.sum(Measurement.prcp),\n",
    "]\n",
    "\n",
    "results = (\n",
    "    session.query(*sel)\n",
    "    .filter(Measurement.station == Station.station)\n",
    "    .filter(Measurement.date >= start_date)\n",
    "    .filter(Measurement.date <= end_date)\n",
    "    .group_by(Station.name)\n",
    "    .order_by(func.sum(Measurement.prcp).desc())\n",
    "    .all()\n",
    ")\n",
    "\n",
    "print(\"Station \\t Name \\t\\t\\t\\t\\t  Latitude \\t Longitude \\t Elevation \\t Rainfall\")\n",
    "print(\n",
    "    \"------------------------------------------------------------------------------------------------------------------\"\n",
    ")\n",
    "\n",
    "for (station, name, latitude, longitude, elevation, rainfall) in results:\n",
    "    print(\n",
    "        station,\n",
    "        \"\\t\",\n",
    "        \"{:<40}\".format(name),\n",
    "        latitude,\n",
    "        \"\\t\",\n",
    "        round(longitude, 2),\n",
    "        \"\\t\",\n",
    "        elevation,\n",
    "        \"\\t\\t\",\n",
    "        rainfall,\n",
    "    )"
   ]
  },
  {
   "cell_type": "code",
   "execution_count": 21,
   "metadata": {},
   "outputs": [
    {
     "data": {
      "text/plain": [
       "[(62.0, 69.15384615384616, 77.0)]"
      ]
     },
     "execution_count": 21,
     "metadata": {},
     "output_type": "execute_result"
    }
   ],
   "source": [
    "# Create a query that will calculate the daily normals\n",
    "# (i.e. the averages for tmin, tmax, and tavg for all historic data matching a specific month and day)\n",
    "\n",
    "\n",
    "def daily_normals(date):\n",
    "    \"\"\"Daily Normals.\n",
    "    \n",
    "    Args:\n",
    "        date (str): A date string in the format '%m-%d'\n",
    "        \n",
    "    Returns:\n",
    "        A list of tuples containing the daily normals, tmin, tavg, and tmax\n",
    "    \n",
    "    \"\"\"\n",
    "\n",
    "    sel = [\n",
    "        func.min(Measurement.tobs),\n",
    "        func.avg(Measurement.tobs),\n",
    "        func.max(Measurement.tobs),\n",
    "    ]\n",
    "    return (\n",
    "        session.query(*sel)\n",
    "        .filter(func.strftime(\"%m-%d\", Measurement.date) == date)\n",
    "        .all()\n",
    "    )\n",
    "\n",
    "\n",
    "daily_normals(\"01-01\")"
   ]
  },
  {
   "cell_type": "code",
   "execution_count": 22,
   "metadata": {},
   "outputs": [
    {
     "data": {
      "text/plain": [
       "[(65.0, 72.75925925925925, 79.0),\n",
       " (65.0, 73.05084745762711, 79.0),\n",
       " (67.0, 73.41071428571429, 84.0),\n",
       " (65.0, 73.59649122807018, 78.0),\n",
       " (67.0, 73.39655172413794, 79.0),\n",
       " (66.0, 73.14035087719299, 80.0),\n",
       " (64.0, 71.78846153846153, 79.0)]"
      ]
     },
     "execution_count": 22,
     "metadata": {},
     "output_type": "execute_result"
    }
   ],
   "source": [
    "# calculate the daily normals for your trip\n",
    "# push each tuple of calculations into a list called `normals`\n",
    "\n",
    "# Set the start and end date of the trip\n",
    "trip_start = \"2018-05-01\"\n",
    "trip_end = \"2018-05-07\"\n",
    "\n",
    "# Use the start and end date to create a range of dates\n",
    "trip_dates = pd.date_range(trip_start, trip_end, freq=\"D\")\n",
    "\n",
    "# Stip off the year and save a list of %m-%d strings\n",
    "trip_month_day = trip_dates.strftime(\"%m-%d\")\n",
    "\n",
    "# Loop through the list of %m-%d strings and calculate the normals for each date\n",
    "normals = []\n",
    "for date in trip_month_day:\n",
    "    normals.append(*daily_normals(date))\n",
    "normals"
   ]
  },
  {
   "cell_type": "code",
   "execution_count": 26,
   "metadata": {},
   "outputs": [
    {
     "data": {
      "text/html": [
       "<div>\n",
       "<style scoped>\n",
       "    .dataframe tbody tr th:only-of-type {\n",
       "        vertical-align: middle;\n",
       "    }\n",
       "\n",
       "    .dataframe tbody tr th {\n",
       "        vertical-align: top;\n",
       "    }\n",
       "\n",
       "    .dataframe thead th {\n",
       "        text-align: right;\n",
       "    }\n",
       "</style>\n",
       "<table border=\"1\" class=\"dataframe\">\n",
       "  <thead>\n",
       "    <tr style=\"text-align: right;\">\n",
       "      <th></th>\n",
       "      <th>tmin</th>\n",
       "      <th>tavg</th>\n",
       "      <th>tmax</th>\n",
       "    </tr>\n",
       "    <tr>\n",
       "      <th>date</th>\n",
       "      <th></th>\n",
       "      <th></th>\n",
       "      <th></th>\n",
       "    </tr>\n",
       "  </thead>\n",
       "  <tbody>\n",
       "    <tr>\n",
       "      <th>05-01</th>\n",
       "      <td>65.0</td>\n",
       "      <td>72.759259</td>\n",
       "      <td>79.0</td>\n",
       "    </tr>\n",
       "    <tr>\n",
       "      <th>05-02</th>\n",
       "      <td>65.0</td>\n",
       "      <td>73.050847</td>\n",
       "      <td>79.0</td>\n",
       "    </tr>\n",
       "    <tr>\n",
       "      <th>05-03</th>\n",
       "      <td>67.0</td>\n",
       "      <td>73.410714</td>\n",
       "      <td>84.0</td>\n",
       "    </tr>\n",
       "    <tr>\n",
       "      <th>05-04</th>\n",
       "      <td>65.0</td>\n",
       "      <td>73.596491</td>\n",
       "      <td>78.0</td>\n",
       "    </tr>\n",
       "    <tr>\n",
       "      <th>05-05</th>\n",
       "      <td>67.0</td>\n",
       "      <td>73.396552</td>\n",
       "      <td>79.0</td>\n",
       "    </tr>\n",
       "  </tbody>\n",
       "</table>\n",
       "</div>"
      ],
      "text/plain": [
       "       tmin       tavg  tmax\n",
       "date                        \n",
       "05-01  65.0  72.759259  79.0\n",
       "05-02  65.0  73.050847  79.0\n",
       "05-03  67.0  73.410714  84.0\n",
       "05-04  65.0  73.596491  78.0\n",
       "05-05  67.0  73.396552  79.0"
      ]
     },
     "execution_count": 26,
     "metadata": {},
     "output_type": "execute_result"
    }
   ],
   "source": [
    "# Load the previous query results into a Pandas DataFrame and add the `trip_dates` range as the `date` index\n",
    "df = pd.DataFrame(normals, columns=[\"tmin\", \"tavg\", \"tmax\"])\n",
    "df[\"date\"] = trip_month_day\n",
    "df.set_index([\"date\"], inplace=True)\n",
    "df.head()"
   ]
  },
  {
   "cell_type": "code",
   "execution_count": 27,
   "metadata": {},
   "outputs": [
    {
     "name": "stderr",
     "output_type": "stream",
     "text": [
      "/opt/conda/lib/python3.7/site-packages/pandas/plotting/_matplotlib/core.py:1192: UserWarning: FixedFormatter should only be used together with FixedLocator\n",
      "  ax.set_xticklabels(xticklabels)\n"
     ]
    },
    {
     "data": {
      "text/plain": [
       "Text(11.119999999999997, 0.5, 'Temperature')"
      ]
     },
     "execution_count": 27,
     "metadata": {},
     "output_type": "execute_result"
    },
    {
     "data": {
      "image/png": "[encoded data removed]",
      "text/plain": [
       "<Figure size 432x288 with 1 Axes>"
      ]
     },
     "metadata": {},
     "output_type": "display_data"
    }
   ],
   "source": [
    "# Plot the daily normals as an area plot with `stacked=False`\n",
    "df.plot(kind=\"area\", stacked=False, x_compat=True, alpha=0.2)\n",
    "plt.tight_layout()\n",
    "plt.xlabel(\"Date\")\n",
    "plt.savefig(\"Images/area_plot.png\")\n",
    "plt.ylabel(\"Temperature\")"
   ]
  },
  {
   "cell_type": "code",
   "execution_count": null,
   "metadata": {},
   "outputs": [],
   "source": []
  }
 ],
 "metadata": {
  "environment": {
   "name": "common-cpu.m54",
   "type": "gcloud",
   "uri": "gcr.io/deeplearning-platform-release/base-cpu:m54"
  },
  "kernelspec": {
   "display_name": "Python 3",
   "language": "python",
   "name": "python3"
  },
  "language_info": {
   "codemirror_mode": {
    "name": "ipython",
    "version": 3
   },
   "file_extension": ".py",
   "mimetype": "text/x-python",
   "name": "python",
   "nbconvert_exporter": "python",
   "pygments_lexer": "ipython3",
   "version": "3.7.8"
  }
 },
 "nbformat": 4,
 "nbformat_minor": 4
}
